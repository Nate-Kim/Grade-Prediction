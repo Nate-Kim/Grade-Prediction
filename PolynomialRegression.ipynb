{
 "cells": [
  {
   "cell_type": "code",
   "execution_count": null,
   "id": "initial_id",
   "metadata": {
    "collapsed": true
   },
   "outputs": [],
   "source": [
    "import pandas as pd\n",
    "from sklearn.model_selection import train_test_split\n",
    "from sklearn.ensemble import RandomForestRegressor\n",
    "from sklearn.metrics import mean_squared_error, r2_score\n",
    "from sklearn.model_selection import GridSearchCV\n",
    "import matplotlib.pyplot as plt\n",
    "\n",
    "# First two returns are just the full dataset X and y\n",
    "# Next two are the edited dataset using G_avg and dropped highly correlated inputs\n",
    "# Last two are an edited dataset using G_avg and only the six highest correlating inputs\n",
    "def load_math_dataset():\n",
    "    full_dataset = pd.read_csv(\"Math-Students.csv\", sep=\",\")\n",
    "\n",
    "    # Create dataset with all data for testing\n",
    "    fData_X = full_dataset.drop(\"G3\", axis=1)\n",
    "    fData_y = full_dataset[\"G3\"]\n",
    "    fData_X = pd.get_dummies(fData_X, drop_first=False)  # one-hot encode categorical features\n",
    "\n",
    "    # Change output label to average of grades\n",
    "    grades = ['G1', 'G2', 'G3']\n",
    "    full_dataset['G_avg'] = full_dataset[grades].mean(axis=1)\n",
    "    full_dataset = full_dataset.drop(columns=grades)\n",
    "\n",
    "    # Split X and y for complex dataset (all non-correlated features)\n",
    "    correlation_drop = ['Dalc', 'Walc', 'Fedu']\n",
    "    complex_dataset = full_dataset.drop(columns=correlation_drop)\n",
    "    cData_X = complex_dataset.drop(\"G_avg\", axis=1)\n",
    "    cData_y = complex_dataset[\"G_avg\"]\n",
    "    cData_X = pd.get_dummies(cData_X, drop_first=False)  # one-hot encode categorical features\n",
    "\n",
    "    # Split X and y for simple dataset (only features with highest G_avg correlation)\n",
    "    best_features = ['failures', 'Medu', 'goout', 'age', 'studytime', 'traveltime']\n",
    "    simple_dataset = complex_dataset[best_features + ['G_avg']]\n",
    "    sData_X = simple_dataset.drop(\"G_avg\", axis=1)\n",
    "    sData_y = simple_dataset[\"G_avg\"]\n",
    "    sData_X = pd.get_dummies(sData_X, drop_first=False)  # one-hot encode categorical features\n",
    "\n",
    "    return fData_X, fData_y, cData_X, cData_y, sData_X, sData_y"
   ]
  }
 ],
 "metadata": {
  "kernelspec": {
   "display_name": "Python 3",
   "language": "python",
   "name": "python3"
  },
  "language_info": {
   "codemirror_mode": {
    "name": "ipython",
    "version": 2
   },
   "file_extension": ".py",
   "mimetype": "text/x-python",
   "name": "python",
   "nbconvert_exporter": "python",
   "pygments_lexer": "ipython2",
   "version": "2.7.6"
  }
 },
 "nbformat": 4,
 "nbformat_minor": 5
}
